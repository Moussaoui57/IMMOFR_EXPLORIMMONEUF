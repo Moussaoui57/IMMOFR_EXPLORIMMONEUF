{
 "cells": [
  {
   "cell_type": "code",
   "execution_count": 306,
   "metadata": {},
   "outputs": [],
   "source": [
    "import pandas as pd\n",
    "import csv\n",
    "import numpy\n",
    "import os\n",
    "import re\n",
    "SITENAME = \"IMMO_FR.NEUF_EXPLORIMMOiiii\"\n",
    "DATE = \"2021_06\"\n",
    "FILENAME = \"/home/databiz33/Bureau/CSV_Files/2021_06/EXPLOR/Nouveau dossier/Nouveau dossier/IMMO_FR.NEUF_EXPLORIMMO_2021_06.csv\"\n",
    "\n",
    "OUTPUT = \"Outputs\"\n",
    "\n",
    "##### to export only database field ####\n",
    "FEED_EXPORT_FIELDS = [u\"ANNONCE_LINK\", u\"FROM_SITE\", u\"ID_CLIENT\", u\"ANNONCE_DATE\", u\"ACHAT_LOC\", u\"SOLD\", u\"MAISON_APT\", u\"CATEGORIE\", u\"NEUF_IND\", u\"NOM\", u\"ADRESSE\", u\"CP\", u\"VILLE\", u\"QUARTIER\", u\"DEPARTEMENT\", u\"REGION\", u\"PROVINCE\", u\"ANNONCE_TEXT\", u\"ETAGE\", u\"NB_ETAGE\", u\"LATITUDE\", u\"LONGITUDE\", u\"M2_TOTALE\", u\"SURFACE_TERRAIN\", u\"NB_GARAGE\", u\"PHOTO\", u\"PIECE\", u\"PRIX\", u\"PRIX_M2\", u\"URL_PROMO\", u\"STOCK_NEUF\", u\"PAYS_AD\", u\"PRO_IND\", u\"SELLER_TYPE\", u\"MINI_SITE_URL\", u\"MINI_SITE_ID\", u\"AGENCE_NOM\", u\"AGENCE_ADRESSE\", u\"AGENCE_CP\", u\"AGENCE_VILLE\", u\"AGENCE_DEPARTEMENT\", u\"EMAIL\", u\"WEBSITE\", u\"AGENCE_TEL\", u\"AGENCE_TEL_2\", u\"AGENCE_TEL_3\", u\"AGENCE_TEL_4\", u\"AGENCE_FAX\", u\"AGENCE_CONTACT\", u\"PAYS_DEALER\", u\"NEUKOLLN_FROM_LISTING_PAGE\", u\"NEUKOLLN_ORIGINAL_PHONE_AGENCE_TEL\", u\"NEUKOLLN_DEFAULT_CC_AGENCE_TEL\", u\"NEUKOLLN_ORIGINAL_PHONE_AGENCE_FAX\", u\"NEUKOLLN_DEFAULT_CC_AGENCE_FAX\"]"
   ]
  },
  {
   "cell_type": "code",
   "execution_count": 331,
   "metadata": {},
   "outputs": [],
   "source": [
    "SITENAME = \"IMMO_FR.NEUF_EXPLORIMMOiiii\""
   ]
  },
  {
   "cell_type": "code",
   "execution_count": 307,
   "metadata": {},
   "outputs": [],
   "source": [
    "##### DISPLAY FULL settings######\n",
    "pd.set_option('display.max_colwidth', -1)"
   ]
  },
  {
   "cell_type": "code",
   "execution_count": 308,
   "metadata": {},
   "outputs": [],
   "source": [
    "##### READ the CSV #####\n",
    "df = pd.read_csv(FILENAME, sep= \";\",low_memory=False,dtype = object)"
   ]
  },
  {
   "cell_type": "code",
   "execution_count": 309,
   "metadata": {},
   "outputs": [
    {
     "data": {
      "text/plain": [
       "count     180732   \n",
       "unique    1860     \n",
       "top       236162253\n",
       "freq      16177    \n",
       "Name: AGENCE_TEL, dtype: object"
      ]
     },
     "execution_count": 309,
     "metadata": {},
     "output_type": "execute_result"
    }
   ],
   "source": [
    "##### Make sure we have some tels ####\n",
    "df.AGENCE_TEL.describe()"
   ]
  },
  {
   "cell_type": "code",
   "execution_count": 310,
   "metadata": {},
   "outputs": [
    {
     "data": {
      "text/plain": [
       "count     181717\n",
       "unique    100   \n",
       "top       49    \n",
       "freq      11523 \n",
       "Name: DEPARTEMENT, dtype: object"
      ]
     },
     "execution_count": 310,
     "metadata": {},
     "output_type": "execute_result"
    }
   ],
   "source": [
    "df.DEPARTEMENT.describe()"
   ]
  },
  {
   "cell_type": "code",
   "execution_count": 311,
   "metadata": {},
   "outputs": [],
   "source": [
    "##### deduplicate on ID_CLIENT #####\n",
    "df_dedup = df.drop_duplicates(subset='ID_CLIENT')"
   ]
  },
  {
   "cell_type": "code",
   "execution_count": 183,
   "metadata": {},
   "outputs": [
    {
     "data": {
      "text/plain": [
       "181717"
      ]
     },
     "execution_count": 183,
     "metadata": {},
     "output_type": "execute_result"
    }
   ],
   "source": [
    "len(df_dedup)"
   ]
  },
  {
   "cell_type": "code",
   "execution_count": 312,
   "metadata": {},
   "outputs": [],
   "source": [
    "df2 = pd.read_csv(\"IMMO_FR.NEUF_EXPLORIMMO_2021_05.csv\", sep=\";\", low_memory=False,dtype=object)"
   ]
  },
  {
   "cell_type": "markdown",
   "metadata": {},
   "source": [
    "# ADRESSE & Ville"
   ]
  },
  {
   "cell_type": "code",
   "execution_count": 313,
   "metadata": {},
   "outputs": [],
   "source": [
    "lv=[]\n",
    "for i in df_dedup.VILLE:\n",
    "    lv.append(i.split(' (')[0])\n",
    "df_dedup.VILLE=lv"
   ]
  },
  {
   "cell_type": "code",
   "execution_count": null,
   "metadata": {},
   "outputs": [],
   "source": []
  },
  {
   "cell_type": "code",
   "execution_count": null,
   "metadata": {},
   "outputs": [],
   "source": []
  },
  {
   "cell_type": "code",
   "execution_count": null,
   "metadata": {},
   "outputs": [],
   "source": [
    "\n",
    "        \n"
   ]
  },
  {
   "cell_type": "code",
   "execution_count": null,
   "metadata": {},
   "outputs": [],
   "source": []
  },
  {
   "cell_type": "code",
   "execution_count": null,
   "metadata": {},
   "outputs": [],
   "source": []
  },
  {
   "cell_type": "code",
   "execution_count": null,
   "metadata": {},
   "outputs": [],
   "source": []
  },
  {
   "cell_type": "code",
   "execution_count": null,
   "metadata": {},
   "outputs": [],
   "source": [
    "ld=[]\n",
    "for i in df_dedup.VILLE:\n",
    "    if ==\n",
    "    ld.append(i.split(' (')[0])\n",
    "#df_dedup.VILLE=ld\n",
    "\n",
    "\n",
    "#df_dedup.ADRESSE=df_dedup.VILLE+' '+'('+df_dedup.CP+')'"
   ]
  },
  {
   "cell_type": "code",
   "execution_count": 2,
   "metadata": {},
   "outputs": [],
   "source": [
    "#df_dedup.VILLE"
   ]
  },
  {
   "cell_type": "code",
   "execution_count": 314,
   "metadata": {},
   "outputs": [
    {
     "data": {
      "text/plain": [
       "181717"
      ]
     },
     "execution_count": 314,
     "metadata": {},
     "output_type": "execute_result"
    }
   ],
   "source": [
    "#####COLUMN_AGENCE_TEL####\n",
    "\n",
    "list_tel=df_dedup[\"AGENCE_TEL\"]\n",
    "index=0\n",
    "for i in range(0,len(df_dedup)):\n",
    "    try:\n",
    "        if ( str(df_dedup.loc[i,\"AGENCE_TEL\"])=='nan' ):\n",
    "            for j in range(0,len(df2)):\n",
    "                if(df_dedup.loc[i,\"ID_CLIENT\"] == df2.loc[j,\"ID_CLIENT\"]) and (str(df2.loc[j,\"AGENCE_TEL\"]) != \"nan\"):\n",
    "                    list_tel[index]=df2.loc[j,\"AGENCE_TEL\"]\n",
    "    except:\n",
    "         \n",
    "             list_tel[index]=df_dedup.loc[j,\"AGENCE_TEL\"]\n",
    "                \n",
    "    index=index+1\n",
    "         \n",
    "        \n",
    "        \n",
    "\n",
    "len(list_tel)\n"
   ]
  },
  {
   "cell_type": "code",
   "execution_count": 315,
   "metadata": {},
   "outputs": [],
   "source": [
    "df_dedup[\"AGENCE_TEL\"]=list_tel"
   ]
  },
  {
   "cell_type": "code",
   "execution_count": 157,
   "metadata": {},
   "outputs": [
    {
     "name": "stdout",
     "output_type": "stream",
     "text": [
      "<class 'pandas.core.frame.DataFrame'>\n",
      "Int64Index: 181717 entries, 0 to 181716\n",
      "Data columns (total 55 columns):\n",
      "ANNONCE_LINK                          181717 non-null object\n",
      "FROM_SITE                             181717 non-null object\n",
      "ID_CLIENT                             181717 non-null object\n",
      "ANNONCE_DATE                          3757 non-null object\n",
      "ACHAT_LOC                             181717 non-null object\n",
      "SOLD                                  181717 non-null object\n",
      "MAISON_APT                            0 non-null object\n",
      "CATEGORIE                             181715 non-null object\n",
      "NEUF_IND                              181717 non-null object\n",
      "NOM                                   181715 non-null object\n",
      "ADRESSE                               4236 non-null object\n",
      "CP                                    181717 non-null object\n",
      "VILLE                                 181717 non-null object\n",
      "QUARTIER                              0 non-null object\n",
      "DEPARTEMENT                           181717 non-null object\n",
      "REGION                                181715 non-null object\n",
      "PROVINCE                              0 non-null object\n",
      "ANNONCE_TEXT                          181717 non-null object\n",
      "ETAGE                                 177960 non-null object\n",
      "NB_ETAGE                              0 non-null object\n",
      "LATITUDE                              181707 non-null object\n",
      "LONGITUDE                             181577 non-null object\n",
      "M2_TOTALE                             180802 non-null object\n",
      "SURFACE_TERRAIN                       0 non-null object\n",
      "NB_GARAGE                             0 non-null object\n",
      "PHOTO                                 133816 non-null object\n",
      "PIECE                                 148649 non-null object\n",
      "PRIX                                  181713 non-null object\n",
      "PRIX_M2                               0 non-null object\n",
      "URL_PROMO                             0 non-null object\n",
      "STOCK_NEUF                            181715 non-null object\n",
      "PAYS_AD                               181717 non-null object\n",
      "PRO_IND                               0 non-null object\n",
      "SELLER_TYPE                           181717 non-null object\n",
      "MINI_SITE_URL                         0 non-null object\n",
      "MINI_SITE_ID                          181717 non-null object\n",
      "AGENCE_NOM                            181485 non-null object\n",
      "AGENCE_ADRESSE                        0 non-null object\n",
      "AGENCE_CP                             181715 non-null object\n",
      "AGENCE_VILLE                          181715 non-null object\n",
      "AGENCE_DEPARTEMENT                    181715 non-null object\n",
      "EMAIL                                 0 non-null object\n",
      "WEBSITE                               0 non-null object\n",
      "AGENCE_TEL                            180732 non-null object\n",
      "AGENCE_TEL_2                          1 non-null object\n",
      "AGENCE_TEL_3                          0 non-null object\n",
      "AGENCE_TEL_4                          0 non-null object\n",
      "AGENCE_FAX                            0 non-null object\n",
      "AGENCE_CONTACT                        0 non-null object\n",
      "PAYS_DEALER                           0 non-null object\n",
      "NEUKOLLN_FROM_LISTING_PAGE            0 non-null object\n",
      "NEUKOLLN_ORIGINAL_PHONE_AGENCE_TEL    2774 non-null object\n",
      "NEUKOLLN_DEFAULT_CC_AGENCE_TEL        2772 non-null object\n",
      "NEUKOLLN_ORIGINAL_PHONE_AGENCE_FAX    0 non-null object\n",
      "NEUKOLLN_DEFAULT_CC_AGENCE_FAX        0 non-null object\n",
      "dtypes: object(55)\n",
      "memory usage: 82.6+ MB\n"
     ]
    }
   ],
   "source": [
    "df_dedup.info()"
   ]
  },
  {
   "cell_type": "code",
   "execution_count": 316,
   "metadata": {},
   "outputs": [
    {
     "name": "stdout",
     "output_type": "stream",
     "text": [
      "All ADRESSE < 255 digits ==> OK\n"
     ]
    }
   ],
   "source": [
    "##### check the adress format #####\n",
    "adr_check = df_dedup[\"ADRESSE\"][df_dedup[\"ADRESSE\"].notnull()]\n",
    "adr_check = adr_check[adr_check.str.len() > 255]\n",
    "\n",
    "if len(adr_check) == 0:\n",
    "    print('All ADRESSE < 255 digits ==> OK')\n",
    "else:\n",
    "    print(\"Some ADRESSE > 255 digits ==> ERROR\")\n",
    "    print(adr_check)"
   ]
  },
  {
   "cell_type": "code",
   "execution_count": 317,
   "metadata": {},
   "outputs": [],
   "source": [
    "####CLEANING_M2_TOTALE\n",
    "list_m2_tot=[]\n",
    "for el in df_dedup[\"M2_TOTALE\"]:\n",
    "    if '.' in str(el):\n",
    "        elem=str(el).split('.')[0]\n",
    "        list_m2_tot.append(elem)\n",
    "    else:\n",
    "        list_m2_tot.append('')"
   ]
  },
  {
   "cell_type": "code",
   "execution_count": 318,
   "metadata": {},
   "outputs": [],
   "source": [
    "df_dedup[\"M2_TOTALE\"]=list_m2_tot"
   ]
  },
  {
   "cell_type": "code",
   "execution_count": 319,
   "metadata": {},
   "outputs": [
    {
     "name": "stdout",
     "output_type": "stream",
     "text": [
      "All AGENCE_ADRESSE  < 255 digits ==> OK\n"
     ]
    }
   ],
   "source": [
    "#### check the agence adress format ####\n",
    "agence_adr_check = df_dedup[\"AGENCE_ADRESSE\"][df_dedup[\"AGENCE_ADRESSE\"].notnull()]\n",
    "agence_adr_check = agence_adr_check[agence_adr_check.str.len() > 255]\n",
    "\n",
    "if len(agence_adr_check) == 0:\n",
    "    print('All AGENCE_ADRESSE  < 255 digits ==> OK')\n",
    "else:\n",
    "    print(\"Some AGENCE_ADRESSE > 255 digits  ==> ERROR\")\n",
    "    print(agence_adr_check)"
   ]
  },
  {
   "cell_type": "code",
   "execution_count": 320,
   "metadata": {},
   "outputs": [
    {
     "name": "stdout",
     "output_type": "stream",
     "text": [
      "All CP on 5 digits ==> OK\n"
     ]
    }
   ],
   "source": [
    "##### check the CP format ####\n",
    "cp_check = df_dedup[\"CP\"][df_dedup[\"CP\"].notnull()]\n",
    "cp_check = cp_check[cp_check.str.len() != 5]\n",
    "\n",
    "if len(cp_check) == 0:\n",
    "    print('All CP on 5 digits ==> OK')\n",
    "else:\n",
    "    print(\"Some CP not in 5 digits ==> ERROR\")\n",
    "    print(cp_check)"
   ]
  },
  {
   "cell_type": "code",
   "execution_count": 321,
   "metadata": {},
   "outputs": [
    {
     "name": "stdout",
     "output_type": "stream",
     "text": [
      "All AGENCE_CP on 5 digits ==> OK\n"
     ]
    }
   ],
   "source": [
    "#### check the agence CP format ####\n",
    "agence_cp_check = df_dedup[\"AGENCE_CP\"][df_dedup[\"AGENCE_CP\"].notnull()]\n",
    "agence_cp_check = agence_cp_check[agence_cp_check.str.len() != 5]\n",
    "\n",
    "if len(agence_cp_check) == 0:\n",
    "    print('All AGENCE_CP on 5 digits ==> OK')\n",
    "else:\n",
    "    print(\"Some AGENCE_CP not in 5 digits ==> ERROR\")\n",
    "    print(agence_cp_check.describe())"
   ]
  },
  {
   "cell_type": "code",
   "execution_count": 53,
   "metadata": {},
   "outputs": [
    {
     "data": {
      "text/html": [
       "<div>\n",
       "<style scoped>\n",
       "    .dataframe tbody tr th:only-of-type {\n",
       "        vertical-align: middle;\n",
       "    }\n",
       "\n",
       "    .dataframe tbody tr th {\n",
       "        vertical-align: top;\n",
       "    }\n",
       "\n",
       "    .dataframe thead th {\n",
       "        text-align: right;\n",
       "    }\n",
       "</style>\n",
       "<table border=\"1\" class=\"dataframe\">\n",
       "  <thead>\n",
       "    <tr style=\"text-align: right;\">\n",
       "      <th></th>\n",
       "      <th>ANNONCE_LINK</th>\n",
       "      <th>FROM_SITE</th>\n",
       "      <th>ID_CLIENT</th>\n",
       "      <th>ANNONCE_DATE</th>\n",
       "      <th>ACHAT_LOC</th>\n",
       "      <th>SOLD</th>\n",
       "      <th>MAISON_APT</th>\n",
       "      <th>CATEGORIE</th>\n",
       "      <th>NEUF_IND</th>\n",
       "      <th>NOM</th>\n",
       "      <th>...</th>\n",
       "      <th>AGENCE_TEL_3</th>\n",
       "      <th>AGENCE_TEL_4</th>\n",
       "      <th>AGENCE_FAX</th>\n",
       "      <th>AGENCE_CONTACT</th>\n",
       "      <th>PAYS_DEALER</th>\n",
       "      <th>NEUKOLLN_FROM_LISTING_PAGE</th>\n",
       "      <th>NEUKOLLN_ORIGINAL_PHONE_AGENCE_TEL</th>\n",
       "      <th>NEUKOLLN_DEFAULT_CC_AGENCE_TEL</th>\n",
       "      <th>NEUKOLLN_ORIGINAL_PHONE_AGENCE_FAX</th>\n",
       "      <th>NEUKOLLN_DEFAULT_CC_AGENCE_FAX</th>\n",
       "    </tr>\n",
       "  </thead>\n",
       "  <tbody>\n",
       "    <tr>\n",
       "      <th>count</th>\n",
       "      <td>181717</td>\n",
       "      <td>181717</td>\n",
       "      <td>181717</td>\n",
       "      <td>3757</td>\n",
       "      <td>181717</td>\n",
       "      <td>181717</td>\n",
       "      <td>0.0</td>\n",
       "      <td>181715</td>\n",
       "      <td>181717</td>\n",
       "      <td>181715</td>\n",
       "      <td>...</td>\n",
       "      <td>0.0</td>\n",
       "      <td>0.0</td>\n",
       "      <td>0.0</td>\n",
       "      <td>0.0</td>\n",
       "      <td>0.0</td>\n",
       "      <td>0.0</td>\n",
       "      <td>2774</td>\n",
       "      <td>2772</td>\n",
       "      <td>0.0</td>\n",
       "      <td>0.0</td>\n",
       "    </tr>\n",
       "    <tr>\n",
       "      <th>unique</th>\n",
       "      <td>181717</td>\n",
       "      <td>1</td>\n",
       "      <td>181717</td>\n",
       "      <td>147</td>\n",
       "      <td>1</td>\n",
       "      <td>1</td>\n",
       "      <td>0.0</td>\n",
       "      <td>7</td>\n",
       "      <td>1</td>\n",
       "      <td>4805</td>\n",
       "      <td>...</td>\n",
       "      <td>0.0</td>\n",
       "      <td>0.0</td>\n",
       "      <td>0.0</td>\n",
       "      <td>0.0</td>\n",
       "      <td>0.0</td>\n",
       "      <td>0.0</td>\n",
       "      <td>305</td>\n",
       "      <td>1</td>\n",
       "      <td>0.0</td>\n",
       "      <td>0.0</td>\n",
       "    </tr>\n",
       "    <tr>\n",
       "      <th>top</th>\n",
       "      <td>https://www.explorimmoneuf.com/logement/detail-32224143</td>\n",
       "      <td>http://www.explorimmoneuf.com</td>\n",
       "      <td>31707291</td>\n",
       "      <td>2021-05-31 00:00:00</td>\n",
       "      <td>1</td>\n",
       "      <td>N</td>\n",
       "      <td>NaN</td>\n",
       "      <td>maison</td>\n",
       "      <td>Y</td>\n",
       "      <td>Maison 4 pièces</td>\n",
       "      <td>...</td>\n",
       "      <td>NaN</td>\n",
       "      <td>NaN</td>\n",
       "      <td>NaN</td>\n",
       "      <td>NaN</td>\n",
       "      <td>NaN</td>\n",
       "      <td>NaN</td>\n",
       "      <td>0 800 950 750</td>\n",
       "      <td>FR</td>\n",
       "      <td>NaN</td>\n",
       "      <td>NaN</td>\n",
       "    </tr>\n",
       "    <tr>\n",
       "      <th>freq</th>\n",
       "      <td>1</td>\n",
       "      <td>181717</td>\n",
       "      <td>1</td>\n",
       "      <td>748</td>\n",
       "      <td>181717</td>\n",
       "      <td>181717</td>\n",
       "      <td>NaN</td>\n",
       "      <td>176101</td>\n",
       "      <td>181717</td>\n",
       "      <td>57258</td>\n",
       "      <td>...</td>\n",
       "      <td>NaN</td>\n",
       "      <td>NaN</td>\n",
       "      <td>NaN</td>\n",
       "      <td>NaN</td>\n",
       "      <td>NaN</td>\n",
       "      <td>NaN</td>\n",
       "      <td>161</td>\n",
       "      <td>2772</td>\n",
       "      <td>NaN</td>\n",
       "      <td>NaN</td>\n",
       "    </tr>\n",
       "  </tbody>\n",
       "</table>\n",
       "<p>4 rows × 55 columns</p>\n",
       "</div>"
      ],
      "text/plain": [
       "                                                   ANNONCE_LINK  \\\n",
       "count   181717                                                    \n",
       "unique  181717                                                    \n",
       "top     https://www.explorimmoneuf.com/logement/detail-32224143   \n",
       "freq    1                                                         \n",
       "\n",
       "                            FROM_SITE ID_CLIENT         ANNONCE_DATE  \\\n",
       "count   181717                         181717    3757                  \n",
       "unique  1                              181717    147                   \n",
       "top     http://www.explorimmoneuf.com  31707291  2021-05-31 00:00:00   \n",
       "freq    181717                         1         748                   \n",
       "\n",
       "       ACHAT_LOC    SOLD  MAISON_APT CATEGORIE NEUF_IND              NOM  ...  \\\n",
       "count   181717    181717  0.0         181715    181717   181715           ...   \n",
       "unique  1         1       0.0         7         1        4805             ...   \n",
       "top     1         N      NaN          maison    Y        Maison 4 pièces  ...   \n",
       "freq    181717    181717 NaN          176101    181717   57258            ...   \n",
       "\n",
       "       AGENCE_TEL_3 AGENCE_TEL_4 AGENCE_FAX  AGENCE_CONTACT PAYS_DEALER  \\\n",
       "count   0.0          0.0          0.0        0.0             0.0          \n",
       "unique  0.0          0.0          0.0        0.0             0.0          \n",
       "top    NaN          NaN          NaN        NaN             NaN           \n",
       "freq   NaN          NaN          NaN        NaN             NaN           \n",
       "\n",
       "       NEUKOLLN_FROM_LISTING_PAGE  NEUKOLLN_ORIGINAL_PHONE_AGENCE_TEL  \\\n",
       "count   0.0                        2774                                 \n",
       "unique  0.0                        305                                  \n",
       "top    NaN                         0 800 950 750                        \n",
       "freq   NaN                         161                                  \n",
       "\n",
       "       NEUKOLLN_DEFAULT_CC_AGENCE_TEL NEUKOLLN_ORIGINAL_PHONE_AGENCE_FAX  \\\n",
       "count   2772                           0.0                                 \n",
       "unique  1                              0.0                                 \n",
       "top     FR                            NaN                                  \n",
       "freq    2772                          NaN                                  \n",
       "\n",
       "        NEUKOLLN_DEFAULT_CC_AGENCE_FAX  \n",
       "count   0.0                             \n",
       "unique  0.0                             \n",
       "top    NaN                              \n",
       "freq   NaN                              \n",
       "\n",
       "[4 rows x 55 columns]"
      ]
     },
     "execution_count": 53,
     "metadata": {},
     "output_type": "execute_result"
    }
   ],
   "source": [
    "#### display ####\n",
    "df_dedup.describe()"
   ]
  },
  {
   "cell_type": "code",
   "execution_count": null,
   "metadata": {},
   "outputs": [],
   "source": [
    "#df = df[df.line_race != 0]"
   ]
  },
  {
   "cell_type": "code",
   "execution_count": 258,
   "metadata": {},
   "outputs": [],
   "source": [
    "df_dedup_false = df_dedup[df_dedup.ETAGE ==\"false\"]\n",
    "df_dedup_true = df_dedup[df_dedup.ETAGE ==\"true\"]\n",
    "#df_dedup_false = df_dedup[df_dedup.ETAGE ==\"false\"]\n",
    "\n"
   ]
  },
  {
   "cell_type": "code",
   "execution_count": 259,
   "metadata": {},
   "outputs": [],
   "source": [
    "#df_dedup_vi = df_dedup[ [i for i in df_dedup.ETAGE if ]]\n",
    "df_dedup_vi = df_dedup.loc[df_dedup.ETAGE!='true']"
   ]
  },
  {
   "cell_type": "code",
   "execution_count": 260,
   "metadata": {},
   "outputs": [
    {
     "data": {
      "text/plain": [
       "5633"
      ]
     },
     "execution_count": 260,
     "metadata": {},
     "output_type": "execute_result"
    }
   ],
   "source": [
    "len(df_dedup_vi)"
   ]
  },
  {
   "cell_type": "code",
   "execution_count": 261,
   "metadata": {},
   "outputs": [
    {
     "data": {
      "text/plain": [
       "1876"
      ]
     },
     "execution_count": 261,
     "metadata": {},
     "output_type": "execute_result"
    }
   ],
   "source": [
    "len(df_dedup_false)"
   ]
  },
  {
   "cell_type": "code",
   "execution_count": 262,
   "metadata": {},
   "outputs": [
    {
     "data": {
      "text/plain": [
       "176084"
      ]
     },
     "execution_count": 262,
     "metadata": {},
     "output_type": "execute_result"
    }
   ],
   "source": [
    "len(df_dedup_true)"
   ]
  },
  {
   "cell_type": "code",
   "execution_count": 263,
   "metadata": {},
   "outputs": [],
   "source": [
    "ANN_link_true=df_dedup_true.ANNONCE_LINK"
   ]
  },
  {
   "cell_type": "code",
   "execution_count": 242,
   "metadata": {},
   "outputs": [],
   "source": [
    "j=0\n",
    "for i in df_dedup.ETAGE:\n",
    "    if str(i)==\"nan\":\n",
    "        #rint(i)\n",
    "        j+=1\n",
    "#rint(j)\n",
    "#df_dedup.ETAGE.isna().count()"
   ]
  },
  {
   "cell_type": "code",
   "execution_count": 105,
   "metadata": {},
   "outputs": [],
   "source": [
    "#df_dedup.ETAGE"
   ]
  },
  {
   "cell_type": "code",
   "execution_count": 323,
   "metadata": {},
   "outputs": [],
   "source": [
    "df_dedup[\"ETAGE\"]=\"\"\n",
    "df_dedup[\"ANNONCE_DATE\"]=\"\""
   ]
  },
  {
   "cell_type": "code",
   "execution_count": 243,
   "metadata": {},
   "outputs": [
    {
     "data": {
      "text/plain": [
       "1876"
      ]
     },
     "execution_count": 243,
     "metadata": {},
     "output_type": "execute_result"
    }
   ],
   "source": [
    "len(df_dedup_false)"
   ]
  },
  {
   "cell_type": "code",
   "execution_count": 166,
   "metadata": {},
   "outputs": [
    {
     "data": {
      "text/plain": [
       "176084"
      ]
     },
     "execution_count": 166,
     "metadata": {},
     "output_type": "execute_result"
    }
   ],
   "source": [
    "len(df_dedup_true)"
   ]
  },
  {
   "cell_type": "code",
   "execution_count": 324,
   "metadata": {
    "scrolled": true
   },
   "outputs": [],
   "source": [
    "#ANN_link_true"
   ]
  },
  {
   "cell_type": "code",
   "execution_count": 269,
   "metadata": {},
   "outputs": [],
   "source": [
    "an_list=ANN_link_true.tolist()"
   ]
  },
  {
   "cell_type": "code",
   "execution_count": 271,
   "metadata": {},
   "outputs": [],
   "source": [
    "import csv\n",
    "with open('ANNONCE_LINK_TRUE.csv', 'w', newline='') as f:\n",
    "    writer = csv.writer(f)\n",
    "    writer.writerows(an_list)"
   ]
  },
  {
   "cell_type": "code",
   "execution_count": 333,
   "metadata": {},
   "outputs": [],
   "source": [
    "#### create the output directory ####\n",
    "filefolder = OUTPUT + \"/\" + DATE +\"/\"\n",
    "filepath = filefolder  + SITENAME+\"_\"+DATE+\".csv\"\n",
    "if not os.path.exists(filefolder):\n",
    "            os.makedirs(filefolder)"
   ]
  },
  {
   "cell_type": "code",
   "execution_count": 334,
   "metadata": {},
   "outputs": [],
   "source": [
    "##### write csv to send to livraison server ####\n",
    "df_dedup.to_csv(filepath,columns = FEED_EXPORT_FIELDS ,sep=\";\",quoting=csv.QUOTE_ALL,index=False,encoding='utf-8')"
   ]
  },
  {
   "cell_type": "code",
   "execution_count": 328,
   "metadata": {},
   "outputs": [],
   "source": [
    "#### function to count stock neuf ####\n",
    "def count_stock(x):\n",
    "    if type(x) == numpy.float:\n",
    "        return 0\n",
    "    else:\n",
    "        return int(x)"
   ]
  },
  {
   "cell_type": "code",
   "execution_count": 330,
   "metadata": {},
   "outputs": [
    {
     "data": {
      "text/plain": [
       "210570"
      ]
     },
     "execution_count": 330,
     "metadata": {},
     "output_type": "execute_result"
    }
   ],
   "source": [
    "#### to be send to the analyst only for NEUF website  ####\n",
    "df_dedup.STOCK_NEUF.apply(lambda x : count_stock(x)).sum()"
   ]
  },
  {
   "cell_type": "code",
   "execution_count": 305,
   "metadata": {},
   "outputs": [
    {
     "name": "stdout",
     "output_type": "stream",
     "text": [
      "1431\n"
     ]
    }
   ],
   "source": [
    "l1=df2[\"ANNONCE_LINK\"]\n",
    "l2=df_dedup_false[\"ANNONCE_LINK\"]\n",
    "r1, r2= set(l1), set(l2)\n",
    "r3=r2.difference(r1)\n",
    "print(len(r3))"
   ]
  },
  {
   "cell_type": "code",
   "execution_count": 116,
   "metadata": {},
   "outputs": [
    {
     "data": {
      "text/plain": [
       "1876"
      ]
     },
     "execution_count": 116,
     "metadata": {},
     "output_type": "execute_result"
    }
   ],
   "source": [
    "len(df_dedup)"
   ]
  },
  {
   "cell_type": "code",
   "execution_count": 117,
   "metadata": {},
   "outputs": [
    {
     "data": {
      "text/plain": [
       "176084"
      ]
     },
     "execution_count": 117,
     "metadata": {},
     "output_type": "execute_result"
    }
   ],
   "source": [
    "len(df_dedup2)"
   ]
  },
  {
   "cell_type": "code",
   "execution_count": 249,
   "metadata": {},
   "outputs": [],
   "source": [
    "#df_dedup_vi"
   ]
  },
  {
   "cell_type": "code",
   "execution_count": 332,
   "metadata": {},
   "outputs": [],
   "source": [
    "#df_dedup_vi.ANNONCE_LINK+\" \"+df_dedup_vi.ETAGE"
   ]
  },
  {
   "cell_type": "code",
   "execution_count": null,
   "metadata": {},
   "outputs": [],
   "source": []
  },
  {
   "cell_type": "code",
   "execution_count": null,
   "metadata": {},
   "outputs": [],
   "source": []
  },
  {
   "cell_type": "code",
   "execution_count": null,
   "metadata": {},
   "outputs": [],
   "source": []
  },
  {
   "cell_type": "code",
   "execution_count": null,
   "metadata": {},
   "outputs": [],
   "source": []
  },
  {
   "cell_type": "code",
   "execution_count": null,
   "metadata": {},
   "outputs": [],
   "source": []
  },
  {
   "cell_type": "code",
   "execution_count": null,
   "metadata": {},
   "outputs": [],
   "source": []
  }
 ],
 "metadata": {
  "kernelspec": {
   "display_name": "Python 3",
   "language": "python",
   "name": "python3"
  },
  "language_info": {
   "codemirror_mode": {
    "name": "ipython",
    "version": 3
   },
   "file_extension": ".py",
   "mimetype": "text/x-python",
   "name": "python",
   "nbconvert_exporter": "python",
   "pygments_lexer": "ipython3",
   "version": "3.5.2"
  }
 },
 "nbformat": 4,
 "nbformat_minor": 2
}
